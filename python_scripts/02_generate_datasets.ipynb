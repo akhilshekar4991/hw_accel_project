{
 "cells": [
  {
   "attachments": {},
   "cell_type": "markdown",
   "metadata": {},
   "source": [
    "### Generate an Input Dataset\n",
    "- Just generate N random key-value pairs\n",
    "- Keys go from 1-N, values go from 1-N (ofcourse random values)\n",
    "- Store them in the form of a JSON to make it easier to read\n",
    "- N is initially fixed to 1,000,000,000 (1 billion)"
   ]
  },
  {
   "cell_type": "code",
   "execution_count": 2,
   "metadata": {},
   "outputs": [
    {
     "name": "stderr",
     "output_type": "stream",
     "text": [
      "100%|██████████| 9999999/9999999 [00:08<00:00, 1225214.45it/s]\n"
     ]
    }
   ],
   "source": [
    "import random\n",
    "import json\n",
    "from tqdm import tqdm\n",
    "\n",
    "N = 10000000\n",
    "\n",
    "values = random.sample(range(1, N*2), N)\n",
    "keys = {}\n",
    "\n",
    "for iter in tqdm(range(1,N)):\n",
    "    keys[iter] = values[iter]\n",
    "\n",
    "json_object = json.dumps(keys, indent=4)\n",
    "\n",
    "with open(\"input_data.json\", \"w\") as outfile:\n",
    "    outfile.write(json_object)\n"
   ]
  },
  {
   "cell_type": "code",
   "execution_count": 2,
   "metadata": {},
   "outputs": [
    {
     "name": "stdout",
     "output_type": "stream",
     "text": [
      "177\n"
     ]
    }
   ],
   "source": [
    "# This cell is just for testing the generated data\n",
    "with open('input_data.json', 'r') as openfile:\n",
    " \n",
    "    # Reading from json file\n",
    "    read_dict = json.load(openfile)\n",
    "\n",
    "print(read_dict[str(7)])"
   ]
  },
  {
   "attachments": {},
   "cell_type": "markdown",
   "metadata": {},
   "source": [
    "### Generate the Query Data\n",
    "This is basically the queries sent to the hashmap. \\\n",
    "We will prove N/10 i.e. 50,000 values"
   ]
  },
  {
   "cell_type": "code",
   "execution_count": 4,
   "metadata": {},
   "outputs": [
    {
     "name": "stderr",
     "output_type": "stream",
     "text": [
      "100%|██████████| 9/9 [00:00<00:00, 73728.00it/s]\n"
     ]
    }
   ],
   "source": [
    "test_data = random.sample(range(1, N), int(N/10))\n",
    "test_data_json = {}\n",
    "\n",
    "for iter in tqdm(range(1, len(test_data))):\n",
    "    test_data_json[iter] = test_data[iter]\n",
    "\n",
    "json_object = json.dumps(test_data_json, indent=4)\n",
    "\n",
    "with open(\"query_data.json\", \"w\") as outfile:\n",
    "    outfile.write(json_object)\n"
   ]
  }
 ],
 "metadata": {
  "kernelspec": {
   "display_name": ".venv",
   "language": "python",
   "name": "python3"
  },
  "language_info": {
   "codemirror_mode": {
    "name": "ipython",
    "version": 3
   },
   "file_extension": ".py",
   "mimetype": "text/x-python",
   "name": "python",
   "nbconvert_exporter": "python",
   "pygments_lexer": "ipython3",
   "version": "3.9.9"
  },
  "orig_nbformat": 4,
  "vscode": {
   "interpreter": {
    "hash": "40422179f3ae459ee1ad6531bcfdb8edeb38075a3c49f58443758874db519256"
   }
  }
 },
 "nbformat": 4,
 "nbformat_minor": 2
}
