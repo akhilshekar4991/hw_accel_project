{
 "cells": [
  {
   "attachments": {},
   "cell_type": "markdown",
   "metadata": {},
   "source": [
    "### Map Input Data to Hash Bucket\n",
    "\n",
    "This script is to map the input data to N hash-buckets  \n",
    "Ex. Suppose there are 1 million KV pairs, then those would be mapped to N hash-buckets   \n",
    "and statistics related to how many KV pairs are there in each hash bucket are collected"
   ]
  },
  {
   "cell_type": "code",
   "execution_count": 9,
   "metadata": {},
   "outputs": [],
   "source": [
    "import json\n",
    "from tqdm import tqdm\n",
    "import hashlib\n",
    "import pandas as pd\n",
    "from collections import Counter\n",
    "\n",
    "NBuckets = 10       # Number of buckets to map to\n",
    "NumOfKVPairs = 10000000   # This is taken from your input dataset\n",
    "\n",
    "# Read the input dataset JSON file\n",
    "with open('input_data_10M.json', 'r') as openfile:\n",
    " \n",
    "    # Reading from json file\n",
    "    input_dataset = json.load(openfile)"
   ]
  },
  {
   "cell_type": "code",
   "execution_count": 14,
   "metadata": {},
   "outputs": [
    {
     "name": "stderr",
     "output_type": "stream",
     "text": [
      "  0%|          | 588/9999999 [00:14<67:49:01, 40.96it/s]\n"
     ]
    },
    {
     "ename": "KeyboardInterrupt",
     "evalue": "",
     "output_type": "error",
     "traceback": [
      "\u001b[0;31m---------------------------------------------------------------------------\u001b[0m",
      "\u001b[0;31mKeyboardInterrupt\u001b[0m                         Traceback (most recent call last)",
      "Cell \u001b[0;32mIn[14], line 8\u001b[0m\n\u001b[1;32m      5\u001b[0m value \u001b[39m=\u001b[39m input_dataset[\u001b[39mstr\u001b[39m(key)]\n\u001b[1;32m      6\u001b[0m \u001b[39m#print(f'Key={key} Value={value}')\u001b[39;00m\n\u001b[0;32m----> 8\u001b[0m hash_value \u001b[39m=\u001b[39m hashlib\u001b[39m.\u001b[39;49mmd5(\u001b[39mbytes\u001b[39;49m(value))\n\u001b[1;32m      9\u001b[0m bucketToMap \u001b[39m=\u001b[39m \u001b[39mint\u001b[39m(hash_value\u001b[39m.\u001b[39mhexdigest(), \u001b[39m16\u001b[39m) \u001b[39m%\u001b[39m NBuckets\n\u001b[1;32m     11\u001b[0m \u001b[39mif\u001b[39;00m(bucketToMap \u001b[39mnot\u001b[39;00m \u001b[39min\u001b[39;00m NBucket_Count_Arr):\n",
      "\u001b[0;31mKeyboardInterrupt\u001b[0m: "
     ]
    }
   ],
   "source": [
    "NBucket_Count_Arr = {}      # Array containing the count of elements in each bucket\n",
    "                            # For ex. arr[4] = 7 indicates there are 7 elements in 4th bucket\n",
    "\n",
    "for key in tqdm(range(1, NumOfKVPairs)):\n",
    "    value = input_dataset[str(key)]\n",
    "    #print(f'Key={key} Value={value}')\n",
    "\n",
    "    hash_value = hashlib.md5(bytes(value))\n",
    "    bucketToMap = int(hash_value.hexdigest(), 16) % NBuckets\n",
    "    \n",
    "    if(bucketToMap not in NBucket_Count_Arr):\n",
    "        NBucket_Count_Arr[bucketToMap] = 1\n",
    "    else:\n",
    "        NBucket_Count_Arr[bucketToMap] += 1\n"
   ]
  },
  {
   "cell_type": "code",
   "execution_count": null,
   "metadata": {},
   "outputs": [
    {
     "data": {
      "text/plain": [
       "<Axes: xlabel='Bucket Lengths', ylabel='Number of Buckets'>"
      ]
     },
     "execution_count": 3,
     "metadata": {},
     "output_type": "execute_result"
    },
    {
     "data": {
      "image/png": "[encoded data removed]",
      "text/plain": [
       "<Figure size 640x480 with 1 Axes>"
      ]
     },
     "metadata": {},
     "output_type": "display_data"
    }
   ],
   "source": [
    "#print(NBucket_Count_Arr)\n",
    "\n",
    "count = Counter(NBucket_Count_Arr)\n",
    "df = pd.DataFrame.from_dict(count, orient='index')\n",
    "df.plot(kind='bar', xlabel='Bucket Lengths', ylabel='Number of Buckets')"
   ]
  }
 ],
 "metadata": {
  "kernelspec": {
   "display_name": ".venv",
   "language": "python",
   "name": "python3"
  },
  "language_info": {
   "codemirror_mode": {
    "name": "ipython",
    "version": 3
   },
   "file_extension": ".py",
   "mimetype": "text/x-python",
   "name": "python",
   "nbconvert_exporter": "python",
   "pygments_lexer": "ipython3",
   "version": "3.9.9"
  },
  "orig_nbformat": 4
 },
 "nbformat": 4,
 "nbformat_minor": 2
}
